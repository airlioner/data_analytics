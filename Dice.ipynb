{
  "nbformat": 4,
  "nbformat_minor": 0,
  "metadata": {
    "colab": {
      "provenance": [],
      "authorship_tag": "ABX9TyNBv9Xz9feeJTDMJ6COYPwN"
    },
    "kernelspec": {
      "name": "python3",
      "display_name": "Python 3"
    },
    "language_info": {
      "name": "python"
    }
  },
  "cells": [
    {
      "cell_type": "code",
      "execution_count": 18,
      "metadata": {
        "id": "weAis2EjdTWC",
        "outputId": "82160cd3-82bc-4d37-9746-097b5daa1348",
        "colab": {
          "base_uri": "https://localhost:8080/",
          "height": 110
        }
      },
      "outputs": [
        {
          "output_type": "stream",
          "name": "stdout",
          "text": [
            "3\n",
            "[4, 6, 3, 2, 1, 4, 4, 2, 1, 6, 4, 2, 1, 2, 1, 2, 3, 5, 1, 6, 5, 1, 6, 3, 2, 6, 3, 6, 3, 3, 1, 4, 6, 5, 2, 3, 3, 1, 5, 5, 4, 1, 6, 2, 6, 4, 4, 1, 5, 5, 1, 2, 6, 2, 2, 1, 4, 3, 5, 5, 4, 6, 1, 3, 1, 3, 4, 6, 5, 2, 1, 2, 6, 5, 5, 2, 1, 6, 5, 2, 2, 3, 2, 4, 5, 3, 4, 2, 2, 1, 6, 6, 4, 1, 1, 5, 6, 3, 1, 6, 2, 6, 4, 5, 1, 3, 1, 4, 2, 4, 6, 2, 2, 6, 3, 2, 3, 4, 4, 5, 6, 1, 4, 1, 5, 3, 3, 3, 3, 5, 3, 5, 3, 1, 4, 5, 6, 6, 2, 3, 5, 6, 4, 5, 4, 5, 2, 1, 1, 3, 6, 3, 4, 1, 4, 1, 2, 2, 1, 4, 6, 2, 4, 2, 3, 4, 6, 5, 1, 6, 3, 4, 5, 5, 3, 1, 3, 1, 3, 5, 3, 3, 1, 4, 4, 4, 5, 5, 1, 5, 4, 6, 1, 5, 1, 6, 1, 5, 6, 6, 5, 3, 5, 6, 2, 6, 5, 5, 6, 2, 2, 5, 5, 3, 6, 3, 5, 2, 6, 5, 3, 2, 3, 6, 3, 2, 6, 1, 1, 1, 3, 5, 2, 2, 6, 6, 6, 4, 5, 1, 2, 1, 1, 4, 4, 6, 6, 5, 5, 6, 1, 3, 2, 1, 6, 6, 5, 2, 4, 3, 5, 3, 3, 3, 6, 2, 6, 6, 4, 2, 2, 5, 4, 6, 4, 4, 6, 1, 4, 6, 4, 1, 6, 5, 5, 5, 5, 3, 6, 2, 4, 3, 2, 3, 5, 2, 4, 2, 6, 5, 4, 6, 5, 4, 1, 5, 2, 1, 5, 6, 4, 5, 3, 1, 5, 1, 3, 5, 5, 4, 2, 2, 2, 6, 5, 1, 4, 3, 2, 6, 4, 4, 5, 5, 6, 5, 3, 1, 5, 1, 4, 3, 5, 6, 6, 4, 1, 3, 2, 6, 1, 3, 2, 3, 1, 2, 2, 4, 1, 3, 1, 6, 4, 2, 5, 1, 1, 1, 2, 4, 2, 3, 1, 6, 2, 6, 5, 1, 5, 1, 2, 2, 1, 2, 3, 6, 2, 2, 4, 6, 6, 4, 2, 4, 3, 5, 1, 1, 6, 1, 2, 3, 3, 5, 5, 1, 5, 4, 4, 2, 4, 3, 6, 2, 2, 3, 6, 6, 6, 4, 5, 5, 4, 3, 2, 1, 4, 3, 3, 6, 4, 1, 4, 3, 3, 3, 6, 3, 6, 6, 5, 1, 2, 1, 2, 4, 2, 6, 5, 5, 4, 6, 6, 3, 3, 1, 3, 1, 5, 3, 3, 3, 1, 3, 3, 5, 3, 1, 6, 2, 2, 1, 2, 2, 3, 2, 4, 5, 1, 5, 3, 5, 1, 2, 6, 3, 5, 5, 3, 6, 1, 6, 1, 6, 1, 6, 4, 2, 2, 3, 2, 4, 1, 1, 2, 2, 5, 4, 3, 5, 1, 1, 5, 6, 1, 3, 5, 2, 4, 5, 3, 5, 2, 3, 2, 2, 3, 5, 6, 2, 1, 4, 5, 5, 4, 4, 1, 5, 1, 6, 4, 4, 1, 2, 1, 3, 4, 5, 4, 1, 3, 1, 4, 2, 5, 6, 5, 5, 1, 1, 5, 2, 3, 1, 4, 4, 2, 6, 4, 6, 3, 6, 6, 2, 5, 4, 6, 5, 6, 5, 6, 6, 1, 2, 5, 3, 5, 6, 5, 6, 3, 4, 6, 2, 2, 6, 6, 2, 2, 5, 4, 2, 2, 3, 3, 6, 2, 4, 4, 1, 3, 5, 1, 1, 1, 3, 6, 4, 3, 4, 1, 5, 2, 4, 5, 5, 3, 4, 6, 6, 1, 5, 1, 3, 5, 6, 1, 6, 5, 5, 3, 1, 1, 3, 3, 5, 3, 3, 2, 4, 4, 5, 3, 6, 4, 5, 1, 3, 3, 2, 4, 3, 6, 3, 2, 6, 5, 4, 4, 6, 4, 6, 3, 2, 1, 4, 3, 6, 6, 5, 6, 1, 3, 2, 3, 3, 1, 3, 2, 6, 2, 1, 5, 5, 5, 2, 4, 5, 1, 6, 5, 2, 6, 1, 3, 6, 4, 2, 4, 1, 5, 1, 6, 1, 4, 4, 6, 6, 6, 6, 5, 1, 6, 2, 2, 6, 5, 2, 5, 3, 4, 3, 5, 1, 2, 2, 4, 3, 4, 5, 2, 5, 5, 6, 5, 1, 5, 5, 3, 2, 2, 6, 6, 6, 2, 5, 6, 3, 1, 1, 1, 6, 6, 2, 5, 6, 1, 6, 1, 5, 3, 3, 3, 5, 2, 5, 6, 2, 1, 2, 5, 1, 4, 6, 6, 3, 3, 6, 1, 4, 1, 3, 6, 5, 4, 1, 3, 3, 2, 1, 6, 6, 5, 4, 3, 2, 3, 4, 3, 5, 1, 1, 6, 1, 3, 5, 5, 6, 1, 3, 1, 5, 1, 3, 5, 4, 2, 2, 2, 1, 4, 1, 3, 2, 6, 6, 6, 5, 6, 1, 2, 2, 2, 6, 6, 4, 4, 1, 1, 5, 2, 6, 1, 4, 6, 2, 2, 3, 1, 1, 5, 5, 6, 2, 4, 4, 5, 3, 5, 6, 6, 4, 2, 6, 6, 1, 1, 3, 2, 5, 4, 5, 6, 2, 2, 2, 1, 3, 3, 3, 1, 1, 5, 2, 6, 4, 6, 3, 4, 2, 2, 2, 2, 2, 1, 4, 4, 2, 1, 1, 5, 5, 2, 6, 1, 4, 2, 3, 5, 4, 4, 2, 6, 5, 1, 3, 3, 3, 1, 5, 2, 2, 6, 2, 1, 3, 3, 5, 2, 6, 4, 3, 6, 6, 4, 6, 1, 5, 2, 6, 3, 6, 2, 1, 6, 1, 2, 1, 1, 6, 2, 2, 1, 1, 6, 1, 6, 2, 3, 3, 6, 5, 3, 4, 3, 2, 2, 6, 4, 5, 6, 2, 3, 4, 4, 4, 4, 5, 1, 3, 2, 5, 1, 2, 6, 2, 4, 3, 4, 3]\n",
            "[171, 172, 163, 142, 170, 182]\n"
          ]
        },
        {
          "output_type": "execute_result",
          "data": {
            "text/plain": [
              "'d6.html'"
            ],
            "application/vnd.google.colaboratory.intrinsic+json": {
              "type": "string"
            }
          },
          "metadata": {},
          "execution_count": 18
        }
      ],
      "source": [
        "from random import randint\n",
        "\n",
        "class Die:\n",
        "\n",
        "  def __init__(self, num_sides=6):\n",
        "    self.num_sides = num_sides\n",
        "\n",
        "  def roll(self):\n",
        "    return randint(1, self.num_sides)\n",
        "\n",
        "die = Die()\n",
        "\n",
        "result = die.roll()\n",
        "print(result)\n",
        "\n",
        "#Droping dice and analyzing results\n",
        "\n",
        "attempts = 1000\n",
        "results = []\n",
        "for roll in range(attempts):\n",
        "  result = die.roll()\n",
        "  results.append(result)\n",
        "\n",
        "print(results)\n",
        "\n",
        "frequencies = []\n",
        "for value in range(1, die.num_sides+1):\n",
        "  frequency = results.count(value)\n",
        "  frequencies.append(frequency)\n",
        "\n",
        "print(frequencies)\n",
        "\n",
        "#Drawing histograms\n",
        "from plotly.graph_objs import Bar, Layout\n",
        "from plotly import offline\n",
        "\n",
        "x_values = list(range(1, die.num_sides+1))\n",
        "data = [Bar(x=x_values, y=frequencies)]\n",
        "\n",
        "x_axis_config = {'title': 'Result'}\n",
        "y_axis_config = {'title': 'Frequency of Result'}\n",
        "my_layout = Layout(title='Results of rolling one D6 1000 times.', xaxis=x_axis_config, yaxis=y_axis_config)\n",
        "offline.plot({'data': data, 'layout': my_layout}, filename='d6.html')\n",
        "\n",
        "\n",
        "\n"
      ]
    },
    {
      "cell_type": "code",
      "source": [
        "ls\n"
      ],
      "metadata": {
        "id": "I2V9xItXNFFO",
        "outputId": "00be4f59-8402-4f11-dcf7-214aa38ba720",
        "colab": {
          "base_uri": "https://localhost:8080/"
        }
      },
      "execution_count": 19,
      "outputs": [
        {
          "output_type": "stream",
          "name": "stdout",
          "text": [
            "d6.html  \u001b[0m\u001b[01;34msample_data\u001b[0m/\n"
          ]
        }
      ]
    }
  ]
}