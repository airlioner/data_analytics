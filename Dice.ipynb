{
  "nbformat": 4,
  "nbformat_minor": 0,
  "metadata": {
    "colab": {
      "provenance": [],
      "authorship_tag": "ABX9TyNhh4HnwWOEVWFuaNVNq2rg"
    },
    "kernelspec": {
      "name": "python3",
      "display_name": "Python 3"
    },
    "language_info": {
      "name": "python"
    }
  },
  "cells": [
    {
      "cell_type": "code",
      "execution_count": 25,
      "metadata": {
        "id": "weAis2EjdTWC",
        "colab": {
          "base_uri": "https://localhost:8080/",
          "height": 616
        },
        "outputId": "c892811c-dddf-41de-baa6-1605c82281fe"
      },
      "outputs": [
        {
          "output_type": "stream",
          "name": "stdout",
          "text": [
            "5\n",
            "[4, 1, 3, 4, 4, 3, 5, 3, 2, 5, 4, 5, 5, 5, 6, 6, 2, 6, 3, 6, 2, 4, 3, 6, 3, 1, 4, 4, 1, 6, 2, 2, 5, 3, 6, 2, 3, 6, 2, 6, 5, 6, 5, 2, 5, 3, 6, 1, 1, 6, 1, 3, 6, 2, 2, 4, 3, 5, 3, 4, 5, 6, 2, 5, 4, 5, 5, 3, 1, 4, 2, 1, 5, 6, 4, 6, 6, 5, 4, 5, 4, 1, 5, 6, 3, 3, 2, 3, 4, 5, 3, 5, 5, 2, 4, 5, 1, 4, 6, 6, 1, 5, 4, 3, 6, 1, 5, 6, 2, 6, 2, 6, 1, 4, 6, 3, 3, 2, 6, 5, 6, 2, 5, 2, 2, 1, 5, 4, 3, 4, 2, 5, 4, 3, 5, 4, 2, 1, 3, 1, 3, 6, 4, 4, 5, 3, 2, 3, 2, 6, 5, 4, 5, 1, 5, 5, 1, 4, 4, 5, 1, 2, 1, 3, 6, 3, 3, 5, 4, 6, 4, 4, 1, 5, 1, 1, 4, 3, 2, 1, 5, 3, 2, 6, 5, 6, 1, 6, 2, 2, 1, 6, 6, 5, 4, 5, 3, 6, 3, 2, 2, 3, 4, 2, 6, 3, 1, 4, 5, 6, 3, 1, 1, 3, 4, 1, 1, 1, 3, 6, 1, 1, 1, 2, 6, 4, 2, 1, 4, 3, 4, 2, 3, 1, 2, 4, 4, 3, 3, 5, 3, 5, 2, 2, 1, 3, 1, 1, 6, 3, 4, 1, 6, 3, 3, 4, 1, 4, 2, 6, 2, 1, 6, 6, 1, 5, 5, 3, 1, 2, 6, 4, 5, 2, 3, 6, 6, 6, 1, 2, 2, 2, 1, 3, 6, 2, 1, 4, 2, 1, 1, 5, 6, 1, 6, 4, 3, 6, 2, 2, 4, 5, 1, 3, 5, 5, 5, 2, 6, 5, 4, 1, 6, 6, 6, 3, 4, 5, 2, 1, 4, 2, 4, 2, 4, 5, 3, 1, 6, 2, 5, 6, 2, 2, 6, 6, 6, 2, 6, 5, 5, 6, 1, 2, 2, 5, 6, 1, 4, 2, 5, 4, 3, 1, 4, 1, 5, 3, 6, 5, 5, 5, 6, 2, 5, 4, 2, 3, 1, 5, 2, 4, 1, 1, 5, 3, 2, 3, 5, 4, 1, 6, 6, 5, 2, 6, 5, 5, 6, 4, 3, 2, 6, 4, 2, 1, 6, 2, 6, 3, 3, 1, 5, 5, 1, 6, 2, 1, 1, 6, 4, 1, 2, 3, 4, 5, 1, 6, 6, 6, 6, 3, 6, 6, 2, 1, 4, 6, 5, 6, 4, 6, 5, 1, 5, 1, 6, 5, 1, 4, 6, 6, 2, 5, 5, 6, 3, 4, 6, 6, 1, 1, 1, 1, 3, 2, 2, 6, 5, 6, 3, 3, 2, 1, 6, 4, 2, 1, 5, 5, 3, 3, 3, 2, 4, 6, 2, 4, 6, 3, 2, 2, 6, 1, 3, 2, 4, 5, 5, 1, 4, 6, 2, 4, 2, 2, 2, 5, 5, 3, 3, 1, 3, 4, 5, 1, 6, 6, 1, 4, 6, 3, 5, 6, 5, 2, 6, 1, 2, 1, 3, 4, 6, 4, 6, 2, 5, 2, 4, 5, 6, 4, 4, 5, 1, 1, 5, 4, 6, 1, 2, 6, 4, 3, 6, 1, 5, 6, 5, 4, 3, 4, 4, 6, 6, 3, 1, 6, 5, 2, 3, 1, 1, 6, 3, 1, 6, 2, 3, 2, 6, 1, 4, 6, 5, 1, 6, 4, 1, 1, 3, 6, 1, 2, 5, 1, 3, 2, 3, 1, 2, 4, 6, 2, 6, 5, 1, 2, 1, 2, 2, 1, 2, 3, 4, 4, 4, 3, 4, 3, 5, 2, 3, 4, 6, 1, 1, 3, 6, 3, 2, 1, 6, 5, 6, 6, 4, 5, 6, 4, 3, 4, 3, 3, 4, 5, 5, 5, 2, 1, 4, 3, 4, 5, 3, 2, 2, 3, 2, 2, 1, 2, 4, 4, 3, 4, 4, 1, 4, 1, 1, 5, 6, 6, 5, 5, 6, 4, 2, 2, 1, 4, 4, 5, 1, 5, 3, 2, 5, 3, 4, 3, 5, 6, 2, 1, 4, 3, 6, 6, 2, 6, 3, 3, 2, 6, 2, 2, 6, 1, 1, 4, 3, 4, 3, 6, 2, 6, 4, 3, 3, 1, 4, 1, 3, 1, 2, 5, 4, 3, 3, 6, 3, 4, 5, 3, 2, 6, 6, 6, 5, 3, 2, 5, 2, 4, 5, 5, 6, 2, 1, 3, 4, 3, 6, 5, 4, 3, 4, 5, 5, 2, 3, 5, 1, 5, 3, 6, 3, 4, 4, 5, 5, 1, 3, 4, 2, 3, 3, 1, 5, 6, 5, 2, 5, 4, 3, 3, 3, 2, 4, 6, 4, 3, 5, 3, 5, 4, 2, 2, 6, 6, 1, 3, 6, 6, 3, 3, 6, 1, 6, 6, 6, 4, 2, 2, 3, 5, 1, 4, 2, 1, 5, 3, 3, 6, 5, 4, 5, 2, 4, 1, 3, 1, 1, 5, 2, 6, 5, 5, 1, 6, 2, 1, 4, 5, 4, 3, 6, 2, 4, 6, 2, 2, 3, 2, 1, 2, 4, 6, 1, 3, 5, 1, 2, 5, 4, 3, 4, 2, 1, 4, 3, 6, 6, 5, 3, 3, 6, 3, 4, 1, 3, 4, 2, 2, 4, 4, 1, 2, 2, 6, 3, 2, 5, 1, 5, 3, 2, 1, 3, 6, 5, 1, 5, 6, 2, 5, 1, 2, 1, 1, 1, 6, 5, 3, 5, 1, 1, 5, 5, 5, 5, 1, 6, 4, 2, 6, 4, 4, 2, 1, 2, 6, 1, 3, 4, 1, 1, 2, 6, 2, 2, 2, 4, 3, 1, 6, 3, 5, 2, 2, 1, 2, 2, 6, 3, 3, 2, 2, 3, 3, 6, 1, 1, 4, 4, 6, 1, 6, 4, 2, 4, 3, 1, 6, 4, 5, 2, 5, 3, 6, 1, 6, 5, 4, 2, 4, 5, 2, 1, 1, 2, 3, 3, 3, 1, 4, 3, 6, 2, 2, 4, 6, 2, 4, 2, 3, 1, 5]\n",
            "[165, 172, 164, 156, 160, 183]\n"
          ]
        },
        {
          "output_type": "display_data",
          "data": {
            "text/html": [
              "<html>\n",
              "<head><meta charset=\"utf-8\" /></head>\n",
              "<body>\n",
              "    <div>            <script src=\"https://cdnjs.cloudflare.com/ajax/libs/mathjax/2.7.5/MathJax.js?config=TeX-AMS-MML_SVG\"></script><script type=\"text/javascript\">if (window.MathJax && window.MathJax.Hub && window.MathJax.Hub.Config) {window.MathJax.Hub.Config({SVG: {font: \"STIX-Web\"}});}</script>                <script type=\"text/javascript\">window.PlotlyConfig = {MathJaxConfig: 'local'};</script>\n",
              "        <script src=\"https://cdn.plot.ly/plotly-2.18.2.min.js\"></script>                <div id=\"f5c00063-dcce-4834-a049-8038fba8c2d7\" class=\"plotly-graph-div\" style=\"height:525px; width:100%;\"></div>            <script type=\"text/javascript\">                                    window.PLOTLYENV=window.PLOTLYENV || {};                                    if (document.getElementById(\"f5c00063-dcce-4834-a049-8038fba8c2d7\")) {                    Plotly.newPlot(                        \"f5c00063-dcce-4834-a049-8038fba8c2d7\",                        [{\"x\":[1,2,3,4,5,6],\"y\":[165,172,164,156,160,183],\"type\":\"bar\"}],                        {\"title\":{\"text\":\"Dice frequencies\"},\"template\":{\"data\":{\"histogram2dcontour\":[{\"type\":\"histogram2dcontour\",\"colorbar\":{\"outlinewidth\":0,\"ticks\":\"\"},\"colorscale\":[[0.0,\"#0d0887\"],[0.1111111111111111,\"#46039f\"],[0.2222222222222222,\"#7201a8\"],[0.3333333333333333,\"#9c179e\"],[0.4444444444444444,\"#bd3786\"],[0.5555555555555556,\"#d8576b\"],[0.6666666666666666,\"#ed7953\"],[0.7777777777777778,\"#fb9f3a\"],[0.8888888888888888,\"#fdca26\"],[1.0,\"#f0f921\"]]}],\"choropleth\":[{\"type\":\"choropleth\",\"colorbar\":{\"outlinewidth\":0,\"ticks\":\"\"}}],\"histogram2d\":[{\"type\":\"histogram2d\",\"colorbar\":{\"outlinewidth\":0,\"ticks\":\"\"},\"colorscale\":[[0.0,\"#0d0887\"],[0.1111111111111111,\"#46039f\"],[0.2222222222222222,\"#7201a8\"],[0.3333333333333333,\"#9c179e\"],[0.4444444444444444,\"#bd3786\"],[0.5555555555555556,\"#d8576b\"],[0.6666666666666666,\"#ed7953\"],[0.7777777777777778,\"#fb9f3a\"],[0.8888888888888888,\"#fdca26\"],[1.0,\"#f0f921\"]]}],\"heatmap\":[{\"type\":\"heatmap\",\"colorbar\":{\"outlinewidth\":0,\"ticks\":\"\"},\"colorscale\":[[0.0,\"#0d0887\"],[0.1111111111111111,\"#46039f\"],[0.2222222222222222,\"#7201a8\"],[0.3333333333333333,\"#9c179e\"],[0.4444444444444444,\"#bd3786\"],[0.5555555555555556,\"#d8576b\"],[0.6666666666666666,\"#ed7953\"],[0.7777777777777778,\"#fb9f3a\"],[0.8888888888888888,\"#fdca26\"],[1.0,\"#f0f921\"]]}],\"heatmapgl\":[{\"type\":\"heatmapgl\",\"colorbar\":{\"outlinewidth\":0,\"ticks\":\"\"},\"colorscale\":[[0.0,\"#0d0887\"],[0.1111111111111111,\"#46039f\"],[0.2222222222222222,\"#7201a8\"],[0.3333333333333333,\"#9c179e\"],[0.4444444444444444,\"#bd3786\"],[0.5555555555555556,\"#d8576b\"],[0.6666666666666666,\"#ed7953\"],[0.7777777777777778,\"#fb9f3a\"],[0.8888888888888888,\"#fdca26\"],[1.0,\"#f0f921\"]]}],\"contourcarpet\":[{\"type\":\"contourcarpet\",\"colorbar\":{\"outlinewidth\":0,\"ticks\":\"\"}}],\"contour\":[{\"type\":\"contour\",\"colorbar\":{\"outlinewidth\":0,\"ticks\":\"\"},\"colorscale\":[[0.0,\"#0d0887\"],[0.1111111111111111,\"#46039f\"],[0.2222222222222222,\"#7201a8\"],[0.3333333333333333,\"#9c179e\"],[0.4444444444444444,\"#bd3786\"],[0.5555555555555556,\"#d8576b\"],[0.6666666666666666,\"#ed7953\"],[0.7777777777777778,\"#fb9f3a\"],[0.8888888888888888,\"#fdca26\"],[1.0,\"#f0f921\"]]}],\"surface\":[{\"type\":\"surface\",\"colorbar\":{\"outlinewidth\":0,\"ticks\":\"\"},\"colorscale\":[[0.0,\"#0d0887\"],[0.1111111111111111,\"#46039f\"],[0.2222222222222222,\"#7201a8\"],[0.3333333333333333,\"#9c179e\"],[0.4444444444444444,\"#bd3786\"],[0.5555555555555556,\"#d8576b\"],[0.6666666666666666,\"#ed7953\"],[0.7777777777777778,\"#fb9f3a\"],[0.8888888888888888,\"#fdca26\"],[1.0,\"#f0f921\"]]}],\"mesh3d\":[{\"type\":\"mesh3d\",\"colorbar\":{\"outlinewidth\":0,\"ticks\":\"\"}}],\"scatter\":[{\"fillpattern\":{\"fillmode\":\"overlay\",\"size\":10,\"solidity\":0.2},\"type\":\"scatter\"}],\"parcoords\":[{\"type\":\"parcoords\",\"line\":{\"colorbar\":{\"outlinewidth\":0,\"ticks\":\"\"}}}],\"scatterpolargl\":[{\"type\":\"scatterpolargl\",\"marker\":{\"colorbar\":{\"outlinewidth\":0,\"ticks\":\"\"}}}],\"bar\":[{\"error_x\":{\"color\":\"#2a3f5f\"},\"error_y\":{\"color\":\"#2a3f5f\"},\"marker\":{\"line\":{\"color\":\"#E5ECF6\",\"width\":0.5},\"pattern\":{\"fillmode\":\"overlay\",\"size\":10,\"solidity\":0.2}},\"type\":\"bar\"}],\"scattergeo\":[{\"type\":\"scattergeo\",\"marker\":{\"colorbar\":{\"outlinewidth\":0,\"ticks\":\"\"}}}],\"scatterpolar\":[{\"type\":\"scatterpolar\",\"marker\":{\"colorbar\":{\"outlinewidth\":0,\"ticks\":\"\"}}}],\"histogram\":[{\"marker\":{\"pattern\":{\"fillmode\":\"overlay\",\"size\":10,\"solidity\":0.2}},\"type\":\"histogram\"}],\"scattergl\":[{\"type\":\"scattergl\",\"marker\":{\"colorbar\":{\"outlinewidth\":0,\"ticks\":\"\"}}}],\"scatter3d\":[{\"type\":\"scatter3d\",\"line\":{\"colorbar\":{\"outlinewidth\":0,\"ticks\":\"\"}},\"marker\":{\"colorbar\":{\"outlinewidth\":0,\"ticks\":\"\"}}}],\"scattermapbox\":[{\"type\":\"scattermapbox\",\"marker\":{\"colorbar\":{\"outlinewidth\":0,\"ticks\":\"\"}}}],\"scatterternary\":[{\"type\":\"scatterternary\",\"marker\":{\"colorbar\":{\"outlinewidth\":0,\"ticks\":\"\"}}}],\"scattercarpet\":[{\"type\":\"scattercarpet\",\"marker\":{\"colorbar\":{\"outlinewidth\":0,\"ticks\":\"\"}}}],\"carpet\":[{\"aaxis\":{\"endlinecolor\":\"#2a3f5f\",\"gridcolor\":\"white\",\"linecolor\":\"white\",\"minorgridcolor\":\"white\",\"startlinecolor\":\"#2a3f5f\"},\"baxis\":{\"endlinecolor\":\"#2a3f5f\",\"gridcolor\":\"white\",\"linecolor\":\"white\",\"minorgridcolor\":\"white\",\"startlinecolor\":\"#2a3f5f\"},\"type\":\"carpet\"}],\"table\":[{\"cells\":{\"fill\":{\"color\":\"#EBF0F8\"},\"line\":{\"color\":\"white\"}},\"header\":{\"fill\":{\"color\":\"#C8D4E3\"},\"line\":{\"color\":\"white\"}},\"type\":\"table\"}],\"barpolar\":[{\"marker\":{\"line\":{\"color\":\"#E5ECF6\",\"width\":0.5},\"pattern\":{\"fillmode\":\"overlay\",\"size\":10,\"solidity\":0.2}},\"type\":\"barpolar\"}],\"pie\":[{\"automargin\":true,\"type\":\"pie\"}]},\"layout\":{\"autotypenumbers\":\"strict\",\"colorway\":[\"#636efa\",\"#EF553B\",\"#00cc96\",\"#ab63fa\",\"#FFA15A\",\"#19d3f3\",\"#FF6692\",\"#B6E880\",\"#FF97FF\",\"#FECB52\"],\"font\":{\"color\":\"#2a3f5f\"},\"hovermode\":\"closest\",\"hoverlabel\":{\"align\":\"left\"},\"paper_bgcolor\":\"white\",\"plot_bgcolor\":\"#E5ECF6\",\"polar\":{\"bgcolor\":\"#E5ECF6\",\"angularaxis\":{\"gridcolor\":\"white\",\"linecolor\":\"white\",\"ticks\":\"\"},\"radialaxis\":{\"gridcolor\":\"white\",\"linecolor\":\"white\",\"ticks\":\"\"}},\"ternary\":{\"bgcolor\":\"#E5ECF6\",\"aaxis\":{\"gridcolor\":\"white\",\"linecolor\":\"white\",\"ticks\":\"\"},\"baxis\":{\"gridcolor\":\"white\",\"linecolor\":\"white\",\"ticks\":\"\"},\"caxis\":{\"gridcolor\":\"white\",\"linecolor\":\"white\",\"ticks\":\"\"}},\"coloraxis\":{\"colorbar\":{\"outlinewidth\":0,\"ticks\":\"\"}},\"colorscale\":{\"sequential\":[[0.0,\"#0d0887\"],[0.1111111111111111,\"#46039f\"],[0.2222222222222222,\"#7201a8\"],[0.3333333333333333,\"#9c179e\"],[0.4444444444444444,\"#bd3786\"],[0.5555555555555556,\"#d8576b\"],[0.6666666666666666,\"#ed7953\"],[0.7777777777777778,\"#fb9f3a\"],[0.8888888888888888,\"#fdca26\"],[1.0,\"#f0f921\"]],\"sequentialminus\":[[0.0,\"#0d0887\"],[0.1111111111111111,\"#46039f\"],[0.2222222222222222,\"#7201a8\"],[0.3333333333333333,\"#9c179e\"],[0.4444444444444444,\"#bd3786\"],[0.5555555555555556,\"#d8576b\"],[0.6666666666666666,\"#ed7953\"],[0.7777777777777778,\"#fb9f3a\"],[0.8888888888888888,\"#fdca26\"],[1.0,\"#f0f921\"]],\"diverging\":[[0,\"#8e0152\"],[0.1,\"#c51b7d\"],[0.2,\"#de77ae\"],[0.3,\"#f1b6da\"],[0.4,\"#fde0ef\"],[0.5,\"#f7f7f7\"],[0.6,\"#e6f5d0\"],[0.7,\"#b8e186\"],[0.8,\"#7fbc41\"],[0.9,\"#4d9221\"],[1,\"#276419\"]]},\"xaxis\":{\"gridcolor\":\"white\",\"linecolor\":\"white\",\"ticks\":\"\",\"title\":{\"standoff\":15},\"zerolinecolor\":\"white\",\"automargin\":true,\"zerolinewidth\":2},\"yaxis\":{\"gridcolor\":\"white\",\"linecolor\":\"white\",\"ticks\":\"\",\"title\":{\"standoff\":15},\"zerolinecolor\":\"white\",\"automargin\":true,\"zerolinewidth\":2},\"scene\":{\"xaxis\":{\"backgroundcolor\":\"#E5ECF6\",\"gridcolor\":\"white\",\"linecolor\":\"white\",\"showbackground\":true,\"ticks\":\"\",\"zerolinecolor\":\"white\",\"gridwidth\":2},\"yaxis\":{\"backgroundcolor\":\"#E5ECF6\",\"gridcolor\":\"white\",\"linecolor\":\"white\",\"showbackground\":true,\"ticks\":\"\",\"zerolinecolor\":\"white\",\"gridwidth\":2},\"zaxis\":{\"backgroundcolor\":\"#E5ECF6\",\"gridcolor\":\"white\",\"linecolor\":\"white\",\"showbackground\":true,\"ticks\":\"\",\"zerolinecolor\":\"white\",\"gridwidth\":2}},\"shapedefaults\":{\"line\":{\"color\":\"#2a3f5f\"}},\"annotationdefaults\":{\"arrowcolor\":\"#2a3f5f\",\"arrowhead\":0,\"arrowwidth\":1},\"geo\":{\"bgcolor\":\"white\",\"landcolor\":\"#E5ECF6\",\"subunitcolor\":\"white\",\"showland\":true,\"showlakes\":true,\"lakecolor\":\"white\"},\"title\":{\"x\":0.05},\"mapbox\":{\"style\":\"light\"}}}},                        {\"responsive\": true}                    ).then(function(){\n",
              "                            \n",
              "var gd = document.getElementById('f5c00063-dcce-4834-a049-8038fba8c2d7');\n",
              "var x = new MutationObserver(function (mutations, observer) {{\n",
              "        var display = window.getComputedStyle(gd).display;\n",
              "        if (!display || display === 'none') {{\n",
              "            console.log([gd, 'removed!']);\n",
              "            Plotly.purge(gd);\n",
              "            observer.disconnect();\n",
              "        }}\n",
              "}});\n",
              "\n",
              "// Listen for the removal of the full notebook cells\n",
              "var notebookContainer = gd.closest('#notebook-container');\n",
              "if (notebookContainer) {{\n",
              "    x.observe(notebookContainer, {childList: true});\n",
              "}}\n",
              "\n",
              "// Listen for the clearing of the current output cell\n",
              "var outputEl = gd.closest('.output');\n",
              "if (outputEl) {{\n",
              "    x.observe(outputEl, {childList: true});\n",
              "}}\n",
              "\n",
              "                        })                };                            </script>        </div>\n",
              "</body>\n",
              "</html>"
            ]
          },
          "metadata": {}
        }
      ],
      "source": [
        "from random import randint\n",
        "\n",
        "class Die:\n",
        "\n",
        "  def __init__(self, num_sides=6):\n",
        "    self.num_sides = num_sides\n",
        "\n",
        "  def roll(self):\n",
        "    return randint(1, self.num_sides)\n",
        "\n",
        "die = Die()\n",
        "\n",
        "result = die.roll()\n",
        "print(result)\n",
        "\n",
        "#Droping dice and analyzing results\n",
        "\n",
        "attempts = 1000\n",
        "results = []\n",
        "for roll in range(attempts):\n",
        "  result = die.roll()\n",
        "  results.append(result)\n",
        "\n",
        "print(results)\n",
        "\n",
        "frequencies = []\n",
        "for value in range(1, die.num_sides+1):\n",
        "  frequency = results.count(value)\n",
        "  frequencies.append(frequency)\n",
        "\n",
        "print(frequencies)\n",
        "\n",
        "#Drawing histograms\n",
        "import plotly.io as pio\n",
        "\n",
        "x_values = list(range(1, die.num_sides+1))\n",
        "y_values = frequencies\n",
        "fig = dict({\n",
        "    \"data\": [{\"type\": \"bar\",\n",
        "             \"x\": x_values,\n",
        "             \"y\": y_values}],\n",
        "    \"layout\": {\"title\":\n",
        "               {\"text\": \"Dice frequencies\"}}\n",
        "})\n",
        "\n",
        "pio.show(fig)\n",
        "\n",
        "\n",
        "#use offline\n",
        "\n",
        "from plotly.graph_objs import Bar, Layout\n",
        "from plotly import offline\n",
        "\n",
        "x_values = list(range(1, die.num_sides+1))\n",
        "data = [Bar(x=x_values, y=frequencies)]\n",
        "\n",
        "x_axis_config = {'title': 'Result'}\n",
        "y_axis_config = {'title': 'Frequency of Result'}\n",
        "my_layout = Layout(title='Results of rolling one D6 1000 times.', xaxis=x_axis_config, yaxis=y_axis_config)\n",
        "offline.plot({'data': data, 'layout': my_layout}, filename='d6.html')\n",
        "\n",
        "\n",
        "# Use two dice\n",
        "die_1 = Die()\n",
        "die_2 = Die()\n",
        "\n",
        "results = []\n",
        "for roll_num in range(attempts):\n",
        "  result = die_1.roll() + die_2.roll()\n",
        "  results.append(result)\n",
        "\n",
        "frequencies = []\n",
        "max_result = die_1.num_sides + die_2.num_sides\n",
        "for value in range(2, max_result+1):\n",
        "  frequency = results.count(value)\n",
        "  frequencies.append(frequency)\n",
        "\n",
        "# Visualize\n",
        "# ...\n",
        "\n",
        "\n",
        "\n"
      ]
    },
    {
      "cell_type": "code",
      "source": [
        "ls\n"
      ],
      "metadata": {
        "colab": {
          "base_uri": "https://localhost:8080/"
        },
        "id": "I2V9xItXNFFO",
        "outputId": "00be4f59-8402-4f11-dcf7-214aa38ba720"
      },
      "execution_count": 19,
      "outputs": [
        {
          "output_type": "stream",
          "name": "stdout",
          "text": [
            "d6.html  \u001b[0m\u001b[01;34msample_data\u001b[0m/\n"
          ]
        }
      ]
    }
  ]
}