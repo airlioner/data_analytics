{
  "nbformat": 4,
  "nbformat_minor": 0,
  "metadata": {
    "colab": {
      "provenance": [],
      "authorship_tag": "ABX9TyPpTZPzXWDbyngNQOTxcqth"
    },
    "kernelspec": {
      "name": "python3",
      "display_name": "Python 3"
    },
    "language_info": {
      "name": "python"
    }
  },
  "cells": [
    {
      "cell_type": "markdown",
      "source": [
        "**API**  - is a way two or more computers programs can communicate with each other. \n",
        "\n",
        "In API requests headers are used to provide an additional information for the server to process an API request.  For example you can specify that data is being sent in json format, the version of the API to use, or provide an API key for authentication. "
      ],
      "metadata": {
        "id": "9OQbUbNcogDi"
      }
    },
    {
      "cell_type": "code",
      "execution_count": null,
      "metadata": {
        "id": "weAis2EjdTWC"
      },
      "outputs": [],
      "source": []
    },
    {
      "cell_type": "code",
      "source": [],
      "metadata": {
        "id": "O8sH2ItQyAl2"
      },
      "execution_count": null,
      "outputs": []
    }
  ]
}