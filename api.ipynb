{
  "nbformat": 4,
  "nbformat_minor": 0,
  "metadata": {
    "colab": {
      "provenance": [],
      "authorship_tag": "ABX9TyO/KqRokGOCryFquDyOB9s9"
    },
    "kernelspec": {
      "name": "python3",
      "display_name": "Python 3"
    },
    "language_info": {
      "name": "python"
    }
  },
  "cells": [
    {
      "cell_type": "markdown",
      "source": [
        "**API**  - is a way two or more computers programs can communicate with each other. "
      ],
      "metadata": {
        "id": "9OQbUbNcogDi"
      }
    },
    {
      "cell_type": "code",
      "execution_count": null,
      "metadata": {
        "id": "weAis2EjdTWC"
      },
      "outputs": [],
      "source": []
    },
    {
      "cell_type": "code",
      "source": [],
      "metadata": {
        "id": "O8sH2ItQyAl2"
      },
      "execution_count": null,
      "outputs": []
    }
  ]
}