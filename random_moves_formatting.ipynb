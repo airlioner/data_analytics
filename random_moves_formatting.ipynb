{
  "nbformat": 4,
  "nbformat_minor": 0,
  "metadata": {
    "colab": {
      "provenance": [],
      "authorship_tag": "ABX9TyOczL+21AXyV85l8JM1aLzj"
    },
    "kernelspec": {
      "name": "python3",
      "display_name": "Python 3"
    },
    "language_info": {
      "name": "python"
    }
  },
  "cells": [
    {
      "cell_type": "code",
      "execution_count": 4,
      "metadata": {
        "id": "weAis2EjdTWC",
        "outputId": "0a9943e8-c6ef-4bb5-8309-ad805c1380bc",
        "colab": {
          "base_uri": "https://localhost:8080/"
        }
      },
      "outputs": [
        {
          "output_type": "stream",
          "name": "stdout",
          "text": [
            "fatal: destination path 'data_analytics' already exists and is not an empty directory.\n",
            "data_analytics\tsample_data\n"
          ]
        }
      ],
      "source": [
        "!git clone https://github.com/airlioner/data_analytics\n",
        "\n"
      ]
    },
    {
      "cell_type": "code",
      "source": [
        "!cd data_analytics/"
      ],
      "metadata": {
        "id": "wGASQBENxtk8"
      },
      "execution_count": 6,
      "outputs": []
    }
  ]
}