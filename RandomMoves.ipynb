{
  "nbformat": 4,
  "nbformat_minor": 0,
  "metadata": {
    "colab": {
      "provenance": [],
      "authorship_tag": "ABX9TyP14Nq8FFmsx4eXS65svQIc"
    },
    "kernelspec": {
      "name": "python3",
      "display_name": "Python 3"
    },
    "language_info": {
      "name": "python"
    }
  },
  "cells": [
    {
      "cell_type": "markdown",
      "source": [
        "# Random Moves Class\n",
        "\n",
        "Class that imitates random moves of an object. For example , the moves of water moleculs are chaotic as well as the movements of air molecules.\n",
        "Entropy.\n",
        "Diffusion\n"
      ],
      "metadata": {
        "id": "7EoPID2XNSSu"
      }
    },
    {
      "cell_type": "code",
      "execution_count": 9,
      "metadata": {
        "id": "weAis2EjdTWC"
      },
      "outputs": [],
      "source": [
        "from random import choice\n",
        "\n",
        "class RandomMoves:\n",
        "\n",
        "#Class that generates random movements of an object\n",
        "\n",
        "  def __init__(self, num_points=5000):\n",
        "    self.num_points = num_points\n",
        "    self.x_values = [0]\n",
        "    self.y_values = [0]\n",
        "\n",
        "  def random_points(self):\n",
        "    #Generate random coordinates of an object\n",
        "    while len(self.x_values) < self.num_points:\n",
        "      x_direction = choice([1, -1])\n",
        "      x_distance = choice([0, 1, 2, 3, 4])\n",
        "      x_step = x_direction * x_distance\n",
        "\n",
        "      y_direction = choice([1, -1])\n",
        "      y_distance = choice([0, 1, 2, 3, 4])\n",
        "      y_step = y_direction * y_distance\n",
        "\n",
        "      if x_step == 0 and y_step == 0:\n",
        "        continue\n",
        "\n",
        "      x = self.x_values[-1] + x_step\n",
        "      y = self.y_values[-1] + y_step\n",
        "\n",
        "      self.x_values.append(x)\n",
        "      self.y_values.append(y)\n",
        "\n",
        "    \n",
        "\n",
        "\n",
        "\n",
        "\n"
      ]
    }
  ]
}