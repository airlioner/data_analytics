{
  "nbformat": 4,
  "nbformat_minor": 0,
  "metadata": {
    "colab": {
      "provenance": [],
      "authorship_tag": "ABX9TyPAv7fiC63MM9eyVB1GILWj"
    },
    "kernelspec": {
      "name": "python3",
      "display_name": "Python 3"
    },
    "language_info": {
      "name": "python"
    }
  },
  "cells": [
    {
      "cell_type": "markdown",
      "source": [
        "# Random Moves Class\n",
        "\n",
        "Class that imitates random moves of an object. For example , the moves of water moleculs are chaotic as well as the movements of air molecules.\n",
        "Entropy.\n",
        "Diffusion\n"
      ],
      "metadata": {
        "id": "7EoPID2XNSSu"
      }
    },
    {
      "cell_type": "code",
      "execution_count": null,
      "metadata": {
        "id": "weAis2EjdTWC"
      },
      "outputs": [],
      "source": [
        "from random import choice\n",
        "\n",
        "class RandomMoves:\n",
        "\"\"\" Class that generates random movements of an object\"\"\"\n",
        "\n",
        "  def __init__(self, num_points=5000):\n",
        "    self.num_points = num_points\n",
        "    self.x_values = [0]\n",
        "    self.y_values = [0]\n",
        "\n",
        "  def random_points(self):\n",
        "    \"\"\"Generate random coordinates of an object\"\"\"\n",
        "    \n",
        "\n",
        "\n",
        "\n",
        "\n"
      ]
    }
  ]
}