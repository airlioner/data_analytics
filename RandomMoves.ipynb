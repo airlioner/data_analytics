{
  "nbformat": 4,
  "nbformat_minor": 0,
  "metadata": {
    "colab": {
      "provenance": [],
      "authorship_tag": "ABX9TyNsueqLmP/G/09McIm8oq1o"
    },
    "kernelspec": {
      "name": "python3",
      "display_name": "Python 3"
    },
    "language_info": {
      "name": "python"
    }
  },
  "cells": [
    {
      "cell_type": "markdown",
      "source": [
        "# Random Moves Class\n",
        "\n",
        "Class that imitates random moves of an object. For example , the moves of water moleculs are chaotic as well as the movements of air molecules.\n",
        "Entropy.\n",
        "Diffusion\n"
      ],
      "metadata": {
        "id": "7EoPID2XNSSu"
      }
    },
    {
      "cell_type": "code",
      "execution_count": null,
      "metadata": {
        "id": "weAis2EjdTWC"
      },
      "outputs": [],
      "source": [
        "from random import choice\n",
        "\n",
        "\n",
        "\n"
      ]
    }
  ]
}